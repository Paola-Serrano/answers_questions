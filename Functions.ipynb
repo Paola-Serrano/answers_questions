{
 "cells": [
  {
   "cell_type": "code",
   "execution_count": 57,
   "id": "5762693c-f64f-4d09-b8f5-6b8b6efb9b5a",
   "metadata": {},
   "outputs": [],
   "source": [
    "import random"
   ]
  },
  {
   "cell_type": "code",
   "execution_count": null,
   "id": "a7758508-451e-42c2-8e7a-1ee221358493",
   "metadata": {},
   "outputs": [],
   "source": []
  },
  {
   "cell_type": "code",
   "execution_count": 74,
   "id": "bd350118-7c37-46cf-bea6-d9798a7ff4e8",
   "metadata": {},
   "outputs": [],
   "source": [
    "dict_final= {'1': ('¿A cuál equipo de fútbol le va Zahid?', ('América', 1), ('Cruz Azul', 0), ('Chivas', 0)), '2': ('¿A cuál equipo de fútbol le va Zahid?', ('América', 1), ('Cruz Azul', 0), ('Chivas', 0)), '3': ('¿A cuál equipo de fútbol le va Zahid?', ('América', 1), ('Cruz Azul', 0), ('Chivas', 0)), '4': ('¿A cuál equipo de fútbol le va Zahid?', ('América', 1), ('Cruz Azul', 0), ('Chivas', 0)), '5': ('¿A cuál equipo de fútbol le va Zahid?', ('América', 1), ('Cruz Azul', 0), ('Chivas', 0)), '6': ('¿A cuál equipo de fútbol le va Zahid?', ('América', 1), ('Cruz Azul', 0), ('Chivas', 0)), '7': ('¿A cuál equipo de fútbol le va Zahid?', ('América', 1), ('Cruz Azul', 0), ('Chivas', 0)), '8': ('¿A cuál equipo de fútbol le va Zahid?', ('América', 1), ('Cruz Azul', 0), ('Chivas', 0)), '9': ('¿A cuál equipo de fútbol le va Zahid?', ('América', 1), ('Cruz Azul', 0), ('Chivas', 0)), '10': ('¿A cuál equipo de fútbol le va Zahid?', ('América', 1), ('Cruz Azul', 0), ('Chivas', 0)), '11': ('¿A cuál equipo de fútbol le va Zahid?', ('América', 1), ('Cruz Azul', 0), ('Chivas', 0)), '12': ('¿A cuál equipo de fútbol le va Zahid?', ('América', 1), ('Cruz Azul', 0), ('Chivas', 0)), '13': ('¿A cuál equipo de fútbol le va Zahid?', ('América', 1), ('Cruz Azul', 0), ('Chivas', 0)), '14': ('¿A cuál equipo de fútbol le va Zahid?', ('América', 1), ('Cruz Azul', 0), ('Chivas', 0)), '15': ('¿A cuál equipo de fútbol le va Zahid?', ('América', 1), ('Cruz Azul', 0), ('Chivas', 0)), '16': ('¿A cuál equipo de fútbol le va Zahid?', ('América', 1), ('Cruz Azul', 0), ('Chivas', 0)), '17': ('¿A cuál equipo de fútbol le va Zahid?', ('América', 1), ('Cruz Azul', 0), ('Chivas', 0)), '18': ('¿A cuál equipo de fútbol le va Zahid?', ('América', 1), ('Cruz Azul', 0), ('Chivas', 0)), '19': ('¿A cuál equipo de fútbol le va Zahid?', ('América', 1), ('Cruz Azul', 0), ('Chivas', 0)), '20': ('¿A cuál equipo de fútbol le va Zahid?', ('América', 1), ('Cruz Azul', 0), ('Chivas', 0)), '21': ('¿A cuál equipo de fútbol le va Zahid?', ('América', 1), ('Cruz Azul', 0), ('Chivas', 0)), '22': ('¿A cuál equipo de fútbol le va Zahid?', ('América', 1), ('Cruz Azul', 0), ('Chivas', 0)), '23': ('¿A cuál equipo de fútbol le va Zahid?', ('América', 1), ('Cruz Azul', 0), ('Chivas', 0)), '24': ('¿A cuál equipo de fútbol le va Zahid?', ('América', 1), ('Cruz Azul', 0), ('Chivas', 0)), '25': ('¿A cuál equipo de fútbol le va Zahid?', ('América', 1), ('Cruz Azul', 0), ('Chivas', 0)), '26': ('¿A cuál equipo de fútbol le va Zahid?', ('América', 1), ('Cruz Azul', 0), ('Chivas', 0)), '27': ('¿A cuál equipo de fútbol le va Zahid?', ('América', 1), ('Cruz Azul', 0), ('Chivas', 0)), '28': ('¿A cuál equipo de fútbol le va Zahid?', ('América', 1), ('Cruz Azul', 0), ('Chivas', 0)), '29': ('¿A cuál equipo de fútbol le va Zahid?', ('América', 1), ('Cruz Azul', 0), ('Chivas', 0)), '30': ('¿A cuál equipo de fútbol le va Zahid?', ('América', 1), ('Cruz Azul', 0), ('Chivas', 0)), '31': ('¿A cuál equipo de fútbol le va Zahid?', ('América', 1), ('Cruz Azul', 0), ('Chivas', 0)), '32': ('¿A cuál equipo de fútbol le va Zahid?', ('América', 1), ('Cruz Azul', 0), ('Chivas', 0)), '33': ('¿A cuál equipo de fútbol le va Zahid?', ('América', 1), ('Cruz Azul', 0), ('Chivas', 0)), '34': ('¿A cuál equipo de fútbol le va Zahid?', ('América', 1), ('Cruz Azul', 0), ('Chivas', 0)), '35': ('¿A cuál equipo de fútbol le va Zahid?', ('América', 1), ('Cruz Azul', 0), ('Chivas', 0)), '36': ('¿A cuál equipo de fútbol le va Zahid?', ('América', 1), ('Cruz Azul', 0), ('Chivas', 0)), '37': ('¿A cuál equipo de fútbol le va Zahid?', ('América', 1), ('Cruz Azul', 0), ('Chivas', 0)), '38': ('¿A cuál equipo de fútbol le va Zahid?', ('América', 1), ('Cruz Azul', 0), ('Chivas', 0)), '39': ('¿A cuál equipo de fútbol le va Zahid?', ('América', 1), ('Cruz Azul', 0), ('Chivas', 0)), '40': ('¿A cuál equipo de fútbol le va Zahid?', ('América', 1), ('Cruz Azul', 0), ('Chivas', 0))}"
   ]
  },
  {
   "cell_type": "code",
   "execution_count": 75,
   "id": "729edd2b-618a-4a92-a55f-c0d3196b0ddf",
   "metadata": {},
   "outputs": [],
   "source": [
    "dict_resultados = {}"
   ]
  },
  {
   "cell_type": "code",
   "execution_count": 93,
   "id": "29f5bc9a-2b17-4ca3-987d-eaabd8eb2939",
   "metadata": {},
   "outputs": [
    {
     "ename": "SyntaxError",
     "evalue": "invalid syntax (3409738889.py, line 13)",
     "output_type": "error",
     "traceback": [
      "\u001b[0;36m  Input \u001b[0;32mIn [93]\u001b[0;36m\u001b[0m\n\u001b[0;31m    global dict_resultados[name] = puntaje\u001b[0m\n\u001b[0m                          ^\u001b[0m\n\u001b[0;31mSyntaxError\u001b[0m\u001b[0;31m:\u001b[0m invalid syntax\n"
     ]
    }
   ],
   "source": [
    "nombre = ''\n",
    "def nombre_selector(nombre = input(\"Cual es tu nombre:\")):\n",
    "    for key in dict_resultados.keys:\n",
    "        if key == nombre:\n",
    "            print(\"Ese nombre ya existe, prueba otro\")\n",
    "            nombre_selector()\n",
    "        \n",
    "experiencia = 0 \n",
    "puntaje = 0\n",
    "#def experiencia_nivel(exp = input(\"Cuantas semanas llevas programando python\") )\n",
    "    \n",
    "def dict_builder_resultados(name = nombre, puntaje = puntaje):\n",
    "    global dict_resultados[name] = puntaje\n",
    "    return dict_resultados\n",
    "        \n",
    "   "
   ]
  },
  {
   "cell_type": "code",
   "execution_count": 88,
   "id": "c0a938f7-d8c1-4fa0-b428-a6813c778420",
   "metadata": {},
   "outputs": [
    {
     "name": "stdout",
     "output_type": "stream",
     "text": [
      "{}\n"
     ]
    }
   ],
   "source": [
    "print (dict_resultados)"
   ]
  },
  {
   "cell_type": "code",
   "execution_count": null,
   "id": "bd939055-9508-4b72-af1a-5140ce24b12d",
   "metadata": {},
   "outputs": [],
   "source": []
  },
  {
   "cell_type": "code",
   "execution_count": 97,
   "id": "5de2c6d8-aa8f-4c93-ae5a-022fe15a2d49",
   "metadata": {},
   "outputs": [
    {
     "name": "stdin",
     "output_type": "stream",
     "text": [
      "Cual es tu nombre: OScar\n"
     ]
    },
    {
     "ename": "NameError",
     "evalue": "name 'self' is not defined",
     "output_type": "error",
     "traceback": [
      "\u001b[0;31m---------------------------------------------------------------------------\u001b[0m",
      "\u001b[0;31mNameError\u001b[0m                                 Traceback (most recent call last)",
      "Input \u001b[0;32mIn [97]\u001b[0m, in \u001b[0;36m<cell line: 2>\u001b[0;34m()\u001b[0m\n\u001b[1;32m      1\u001b[0m dict_resultados \u001b[38;5;241m=\u001b[39m {}\n\u001b[0;32m----> 2\u001b[0m \u001b[38;5;28;01mclass\u001b[39;00m \u001b[38;5;21;01mJugador\u001b[39;00m ():\n\u001b[1;32m      4\u001b[0m     \u001b[38;5;28;01mdef\u001b[39;00m \u001b[38;5;21m__init__\u001b[39m(\u001b[38;5;28mself\u001b[39m, nombre, experiencia, puntaje):\n\u001b[1;32m      5\u001b[0m         \u001b[38;5;28mself\u001b[39m\u001b[38;5;241m.\u001b[39mnombre \u001b[38;5;241m=\u001b[39m nombre\n",
      "Input \u001b[0;32mIn [97]\u001b[0m, in \u001b[0;36mJugador\u001b[0;34m()\u001b[0m\n\u001b[1;32m     13\u001b[0m             nombre_selector()\n\u001b[1;32m     14\u001b[0m \u001b[38;5;66;03m#def experiencia_nivel(exp = input(\"Cuantas semanas llevas programando python\") )\u001b[39;00m\n\u001b[0;32m---> 16\u001b[0m \u001b[38;5;28;01mdef\u001b[39;00m \u001b[38;5;21mdict_builder_resultados\u001b[39m(\u001b[38;5;28mself\u001b[39m, name \u001b[38;5;241m=\u001b[39m \u001b[38;5;28;43mself\u001b[39;49m\u001b[38;5;241m.\u001b[39mname, puntaje \u001b[38;5;241m=\u001b[39m \u001b[38;5;28mself\u001b[39m\u001b[38;5;241m.\u001b[39mpuntaje):\n\u001b[1;32m     17\u001b[0m     dict_resultados [\u001b[38;5;28mself\u001b[39m\u001b[38;5;241m.\u001b[39mname] \u001b[38;5;241m=\u001b[39m \u001b[38;5;28mself\u001b[39m\u001b[38;5;241m.\u001b[39mpuntaje\n",
      "\u001b[0;31mNameError\u001b[0m: name 'self' is not defined"
     ]
    }
   ],
   "source": [
    "dict_resultados = {}\n",
    "class Jugador ():\n",
    "    \n",
    "    def __init__(self, nombre, experiencia, puntaje):\n",
    "        self.nombre = nombre\n",
    "        self.experiencia = experiencia\n",
    "        self.puntaje = puntaje\n",
    "    \n",
    "    def nombre_selector(self, nombre = input(\"Cual es tu nombre:\")):\n",
    "        for key in dict_resultados.keys:\n",
    "            if key == nombre:\n",
    "                print(\"Ese nombre ya existe, prueba otro\")\n",
    "                nombre_selector()\n",
    "    #def experiencia_nivel(exp = input(\"Cuantas semanas llevas programando python\") )\n",
    "    \n",
    "    def dict_builder_resultados(self, name = self.name, puntaje = self.puntaje):\n",
    "        dict_resultados [self.name] = self.puntaje"
   ]
  },
  {
   "cell_type": "code",
   "execution_count": null,
   "id": "3defbab4-340b-4f35-9b50-60eef4f1aeda",
   "metadata": {},
   "outputs": [],
   "source": [
    "Jugador()"
   ]
  },
  {
   "cell_type": "code",
   "execution_count": null,
   "id": "77833f04-f98e-45aa-aa94-cebc03e124b9",
   "metadata": {},
   "outputs": [],
   "source": [
    "print(Oscar.name)"
   ]
  },
  {
   "cell_type": "code",
   "execution_count": 37,
   "id": "6a0ffa22-2b8d-45ad-9c77-1e9cc3c510a5",
   "metadata": {},
   "outputs": [],
   "source": [
    "def random_selector(self):\n",
    "        random_selector_variable = str(random.randint(1,40))\n",
    "        return random_selector_variable\n",
    "\n",
    "\n",
    "def counter (self, counter = self.puntaje):\n"
   ]
  },
  {
   "cell_type": "code",
   "execution_count": null,
   "id": "6b271236-e287-4353-b272-a4fd4a5c041a",
   "metadata": {},
   "outputs": [],
   "source": []
  },
  {
   "cell_type": "code",
   "execution_count": null,
   "id": "cb3d9312-8899-42eb-987e-7b37eef26907",
   "metadata": {},
   "outputs": [],
   "source": []
  },
  {
   "cell_type": "code",
   "execution_count": 18,
   "id": "1491ee64-f859-4cf9-a396-ada35fbedc44",
   "metadata": {},
   "outputs": [
    {
     "data": {
      "text/plain": [
       "'9'"
      ]
     },
     "execution_count": 18,
     "metadata": {},
     "output_type": "execute_result"
    }
   ],
   "source": []
  },
  {
   "cell_type": "code",
   "execution_count": null,
   "id": "8f97c29b-d68f-4a42-89a9-4a4efe70f68a",
   "metadata": {},
   "outputs": [],
   "source": []
  },
  {
   "cell_type": "code",
   "execution_count": null,
   "id": "250f5ef3-8be7-40a4-81c3-7ade5e48f4e3",
   "metadata": {},
   "outputs": [],
   "source": []
  },
  {
   "cell_type": "code",
   "execution_count": null,
   "id": "c7eed177-5d6f-4a5f-98c8-217af53ca055",
   "metadata": {},
   "outputs": [],
   "source": []
  },
  {
   "cell_type": "code",
   "execution_count": null,
   "id": "7ddbce38-6c07-4d97-bbd7-0a7a8b8739a0",
   "metadata": {},
   "outputs": [],
   "source": []
  }
 ],
 "metadata": {
  "kernelspec": {
   "display_name": "Python 3 (ipykernel)",
   "language": "python",
   "name": "python3"
  },
  "language_info": {
   "codemirror_mode": {
    "name": "ipython",
    "version": 3
   },
   "file_extension": ".py",
   "mimetype": "text/x-python",
   "name": "python",
   "nbconvert_exporter": "python",
   "pygments_lexer": "ipython3",
   "version": "3.9.12"
  }
 },
 "nbformat": 4,
 "nbformat_minor": 5
}
