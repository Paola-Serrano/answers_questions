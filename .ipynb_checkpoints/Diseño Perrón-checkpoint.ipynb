{
 "cells": [
  {
   "cell_type": "code",
   "execution_count": 4,
   "metadata": {},
   "outputs": [
    {
     "name": "stdout",
     "output_type": "stream",
     "text": [
      "Requirement already satisfied: pyfiglet in /Users/pao/opt/anaconda3/lib/python3.8/site-packages (0.8.post1)\n",
      "Note: you may need to restart the kernel to use updated packages.\n"
     ]
    }
   ],
   "source": [
    "pip install pyfiglet"
   ]
  },
  {
   "cell_type": "code",
   "execution_count": 5,
   "metadata": {},
   "outputs": [
    {
     "name": "stdout",
     "output_type": "stream",
     "text": [
      "Requirement already satisfied: termcolor in /Users/pao/opt/anaconda3/lib/python3.8/site-packages (2.0.1)\n",
      "Note: you may need to restart the kernel to use updated packages.\n"
     ]
    }
   ],
   "source": [
    "pip install termcolor"
   ]
  },
  {
   "cell_type": "code",
   "execution_count": 6,
   "metadata": {},
   "outputs": [
    {
     "name": "stdout",
     "output_type": "stream",
     "text": [
      "Requirement already satisfied: colorama in /Users/pao/opt/anaconda3/lib/python3.8/site-packages (0.4.4)\n",
      "Note: you may need to restart the kernel to use updated packages.\n"
     ]
    }
   ],
   "source": [
    "pip install colorama"
   ]
  },
  {
   "cell_type": "code",
   "execution_count": 10,
   "metadata": {},
   "outputs": [
    {
     "name": "stdout",
     "output_type": "stream",
     "text": [
      "  o__ __o__/_  o          __o__   o            o__ __o__/_   o__ __o      \n",
      " <|    v      <|>           |    <|>          <|    v       <|     v\\     \n",
      " < >          / \\          / \\   / \\          < >           / \\     <\\    \n",
      "  |         o/   \\o        \\o/   \\o/           |            \\o/       \\o  \n",
      "  o__/_    <|__ __|>        |     |            o__/_         |         |> \n",
      "  |        /       \\       < >   / \\           |            / \\       //  \n",
      " <o>     o/         \\o      |    \\o/          <o>           \\o/      /    \n",
      "  |     /v           v\\     o     |            |             |      o     \n",
      " / \\   />             <\\  __|>_  / \\ _\\o__/_  / \\  _\\o__/_  / \\  __/>     \n",
      "                                                                          \n",
      "                                                                          \n",
      "                                                                          \n",
      "   o   \n",
      "  <|>  \n",
      "  / \\  \n",
      "  \\o/  \n",
      "   |   \n",
      "  < >  \n",
      "       \n",
      "   o   \n",
      " _<|>_ \n",
      "       \n",
      "       \n",
      "       \n",
      "\n"
     ]
    }
   ],
   "source": [
    "import sys\n",
    "\n",
    "from colorama import init\n",
    "init(strip=not sys.stdout.isatty()) \n",
    "from termcolor import cprint \n",
    "from pyfiglet import figlet_format\n",
    "\n",
    "cprint(figlet_format('FAILED!', font='acrobatic'),\n",
    "       'yellow', 'on_red', attrs=['bold'])"
   ]
  }
 ],
 "metadata": {
  "kernelspec": {
   "display_name": "Python 3",
   "language": "python",
   "name": "python3"
  },
  "language_info": {
   "codemirror_mode": {
    "name": "ipython",
    "version": 3
   },
   "file_extension": ".py",
   "mimetype": "text/x-python",
   "name": "python",
   "nbconvert_exporter": "python",
   "pygments_lexer": "ipython3",
   "version": "3.8.5"
  }
 },
 "nbformat": 4,
 "nbformat_minor": 4
}
