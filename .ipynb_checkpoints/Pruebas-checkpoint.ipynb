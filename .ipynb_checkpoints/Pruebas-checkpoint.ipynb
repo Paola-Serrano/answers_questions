{
 "cells": [
  {
   "cell_type": "code",
   "execution_count": 21,
   "id": "c41120bf-6875-421a-b064-f0f3793d8fe1",
   "metadata": {},
   "outputs": [],
   "source": [
    "dict_resultados = {}\n",
    "puntaje_final = 0\n",
    "nombre_final = ''\n",
    "class Jugador ():\n",
    "    \n",
    "    def __init__(self):\n",
    "        self.nombre = nombre_final\n",
    "        self.puntaje = puntaje_final\n",
    "        dict_resultados[self.nombre] = self.puntaje\n",
    "    \n",
    "    def nombre_selector(self):\n",
    "        nombre = input(\"Cual es tu nombre:\")\n",
    "        if dict_resultados.keys() != nombre:\n",
    "            nombre_final = nombre\n",
    "            print(f\" Bienvenido {nombre_final}\")\n",
    "            dict_resultados[nombre_final] = puntaje_final\n",
    "        else:\n",
    "            print(\"Ese nombre ya existe, prueba otro\")\n",
    "            nombre_selector()\n",
    "\n",
    "        \n",
    "    def dict_builder_resultados(self):\n",
    "        dict_resultados [self.name] = self.puntaje"
   ]
  },
  {
   "cell_type": "code",
   "execution_count": 24,
   "id": "136ea52f-f493-4ab8-bc63-d8b2e318ddbf",
   "metadata": {},
   "outputs": [],
   "source": [
    "dict_resultados = {}\n",
    "nombre_final = ''\n",
    "puntaje_final = 0"
   ]
  },
  {
   "cell_type": "code",
   "execution_count": 33,
   "id": "8fe21f9c-610c-4072-8b2a-f6684af86793",
   "metadata": {},
   "outputs": [],
   "source": [
    "def nombre_selector():\n",
    "        nombre = input(\"Cual es tu nombre:\")\n",
    "        if dict_resultados.keys() != nombre:\n",
    "            nombre_final = nombre\n",
    "            dict_resultados[nombre_final] = puntaje_final\n",
    "            return print(f\" Bienvenido {nombre_final}\")\n",
    "        else:\n",
    "            print(\"Ese nombre ya existe, prueba otro\")\n",
    "            return nombre_selector()"
   ]
  },
  {
   "cell_type": "code",
   "execution_count": 34,
   "id": "0d8215da-d30a-4669-a589-c7c74264d738",
   "metadata": {},
   "outputs": [
    {
     "name": "stdin",
     "output_type": "stream",
     "text": [
      "Cual es tu nombre: o\n"
     ]
    },
    {
     "name": "stdout",
     "output_type": "stream",
     "text": [
      " Bienvenido o\n"
     ]
    }
   ],
   "source": [
    "nombre_selector()"
   ]
  },
  {
   "cell_type": "code",
   "execution_count": 35,
   "id": "eae4fb37-676e-436a-bf27-cc042ddb2501",
   "metadata": {},
   "outputs": [
    {
     "name": "stdin",
     "output_type": "stream",
     "text": [
      "Cual es tu nombre: o\n"
     ]
    },
    {
     "name": "stdout",
     "output_type": "stream",
     "text": [
      " Bienvenido o\n"
     ]
    }
   ],
   "source": [
    "nombre_selector()"
   ]
  },
  {
   "cell_type": "code",
   "execution_count": 36,
   "id": "793d71da-5fa1-4ba9-baea-10e6b53d08e6",
   "metadata": {},
   "outputs": [
    {
     "name": "stdout",
     "output_type": "stream",
     "text": [
      "{'o': 0}\n"
     ]
    }
   ],
   "source": [
    "print(dict_resultados)"
   ]
  },
  {
   "cell_type": "code",
   "execution_count": null,
   "id": "0653cdb2-993e-49c5-8b6b-0381c344eb8d",
   "metadata": {},
   "outputs": [],
   "source": []
  }
 ],
 "metadata": {
  "kernelspec": {
   "display_name": "Python 3 (ipykernel)",
   "language": "python",
   "name": "python3"
  },
  "language_info": {
   "codemirror_mode": {
    "name": "ipython",
    "version": 3
   },
   "file_extension": ".py",
   "mimetype": "text/x-python",
   "name": "python",
   "nbconvert_exporter": "python",
   "pygments_lexer": "ipython3",
   "version": "3.9.12"
  }
 },
 "nbformat": 4,
 "nbformat_minor": 5
}
