{
 "cells": [
  {
   "cell_type": "code",
   "execution_count": 12,
   "id": "c41120bf-6875-421a-b064-f0f3793d8fe1",
   "metadata": {},
   "outputs": [
    {
     "name": "stdin",
     "output_type": "stream",
     "text": [
      "Cual es tu nombre: o\n"
     ]
    }
   ],
   "source": [
    "dict_resultados = {}\n",
    "class Jugador ():\n",
    "    \n",
    "    def __init__(self, nombre, experiencia, puntaje):\n",
    "        self.nombre = nombre\n",
    "        self.experiencia = experiencia\n",
    "        self.puntaje = puntaje\n",
    "        dict_resultados[self.nombre] = self.puntaje\n",
    "    \n",
    "    def nombre_selector(self, nombre = input(\"Cual es tu nombre:\")):\n",
    "        for key in dict_resultados.keys:\n",
    "            if key == nombre:\n",
    "                print(\"Ese nombre ya existe, prueba otro\")\n",
    "                nombre_selector()\n",
    "        \n",
    "    def dict_builder_resultados(self):\n",
    "        dict_resultados [self.name] = self.puntaje"
   ]
  },
  {
   "cell_type": "code",
   "execution_count": 24,
   "id": "8fe21f9c-610c-4072-8b2a-f6684af86793",
   "metadata": {},
   "outputs": [
    {
     "name": "stdin",
     "output_type": "stream",
     "text": [
      "Cual es tu nombre: o\n"
     ]
    }
   ],
   "source": [
    "dict_resultados = {}\n",
    "nombre_final = ''\n",
    "puntaje_final = 0\n",
    "def nombre_selector(nombre = input(\"Cual es tu nombre:\")):\n",
    "        print(type(nombre))\n",
    "        for key in dict_resultados.keys:\n",
    "            if key != nombre:\n",
    "                global nombre_final\n",
    "                nombre_final = nombre  \n",
    "            else:\n",
    "                print(\"Ese nombre ya existe, prueba otro\")\n",
    "                nombre_selector()\n",
    "def dict_builder (key= nombre_final, value=  puntaje_final):\n",
    "    dict_resultados[key] = value\n",
    "\n"
   ]
  },
  {
   "cell_type": "code",
   "execution_count": 25,
   "id": "793d71da-5fa1-4ba9-baea-10e6b53d08e6",
   "metadata": {},
   "outputs": [
    {
     "name": "stdout",
     "output_type": "stream",
     "text": [
      "{}\n"
     ]
    }
   ],
   "source": [
    "print(dict_resultados)"
   ]
  },
  {
   "cell_type": "code",
   "execution_count": null,
   "id": "0653cdb2-993e-49c5-8b6b-0381c344eb8d",
   "metadata": {},
   "outputs": [],
   "source": []
  }
 ],
 "metadata": {
  "kernelspec": {
   "display_name": "Python 3 (ipykernel)",
   "language": "python",
   "name": "python3"
  },
  "language_info": {
   "codemirror_mode": {
    "name": "ipython",
    "version": 3
   },
   "file_extension": ".py",
   "mimetype": "text/x-python",
   "name": "python",
   "nbconvert_exporter": "python",
   "pygments_lexer": "ipython3",
   "version": "3.9.12"
  }
 },
 "nbformat": 4,
 "nbformat_minor": 5
}
