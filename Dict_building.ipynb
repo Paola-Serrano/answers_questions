{
 "cells": [
  {
   "cell_type": "code",
   "execution_count": 27,
   "metadata": {},
   "outputs": [],
   "source": [
    "import requests\n",
    "import csv"
   ]
  },
  {
   "cell_type": "code",
   "execution_count": 28,
   "metadata": {},
   "outputs": [],
   "source": [
    "\"\"\" esta parte del codigo lee los elementos del csv, y los pasa a 4 listas diferentes\"\"\"\n",
    "tracker = []\n",
    "preguntas = []\n",
    "res_correc = []\n",
    "incorrecta1 = []\n",
    "incorrecta2 = []\n",
    "prueba_document = list(csv.reader(open('Values&Keys - Master.csv','r')))\n",
    "for lista in prueba_document:\n",
    "    for e in lista:\n",
    "        if len(tracker)< 40 :\n",
    "            tracker.append(e)\n",
    "        elif len(preguntas) < 40:\n",
    "            preguntas.append(e)\n",
    "        elif len(res_correc) < 40:\n",
    "            res_correc.append(e)\n",
    "        elif len(incorrecta1) < 40:\n",
    "            incorrecta1.append(e)\n",
    "        elif len(incorrecta2) <40:\n",
    "            incorrecta2.append(e)\n"
   ]
  },
  {
   "cell_type": "code",
   "execution_count": 29,
   "metadata": {},
   "outputs": [],
   "source": [
    "\"\"\"Crea tuplas que le dan valor de verdad 1 = Correcta 0 = incorrecta\"\"\"\n",
    "correctas= [1]*40\n",
    "incorrectas = [0]*40\n",
    "res_correcta = tuple(zip(res_correc, correctas))\n",
    "incorrectas_1 = tuple(zip(incorrecta1,incorrectas))\n",
    "incorrectas_2 = tuple(zip(incorrecta2,incorrectas))\n",
    "final = list(zip(preguntas,res_correcta,incorrectas_1,incorrectas_2))"
   ]
  },
  {
   "cell_type": "code",
   "execution_count": 30,
   "metadata": {},
   "outputs": [
    {
     "name": "stdout",
     "output_type": "stream",
     "text": [
      "{'1': ('¿A cuál equipo de fútbol le va Zahid?', ('América', 1), ('Cruz Azul', 0), ('Chivas', 0)), '2': ('¿A cuál equipo de fútbol le va Zahid?', ('América', 1), ('Cruz Azul', 0), ('Chivas', 0)), '3': ('¿A cuál equipo de fútbol le va Zahid?', ('América', 1), ('Cruz Azul', 0), ('Chivas', 0)), '4': ('¿A cuál equipo de fútbol le va Zahid?', ('América', 1), ('Cruz Azul', 0), ('Chivas', 0)), '5': ('¿A cuál equipo de fútbol le va Zahid?', ('América', 1), ('Cruz Azul', 0), ('Chivas', 0)), '6': ('¿A cuál equipo de fútbol le va Zahid?', ('América', 1), ('Cruz Azul', 0), ('Chivas', 0)), '7': ('¿A cuál equipo de fútbol le va Zahid?', ('América', 1), ('Cruz Azul', 0), ('Chivas', 0)), '8': ('¿A cuál equipo de fútbol le va Zahid?', ('América', 1), ('Cruz Azul', 0), ('Chivas', 0)), '9': ('¿A cuál equipo de fútbol le va Zahid?', ('América', 1), ('Cruz Azul', 0), ('Chivas', 0)), '10': ('¿A cuál equipo de fútbol le va Zahid?', ('América', 1), ('Cruz Azul', 0), ('Chivas', 0)), '11': ('¿A cuál equipo de fútbol le va Zahid?', ('América', 1), ('Cruz Azul', 0), ('Chivas', 0)), '12': ('¿A cuál equipo de fútbol le va Zahid?', ('América', 1), ('Cruz Azul', 0), ('Chivas', 0)), '13': ('¿A cuál equipo de fútbol le va Zahid?', ('América', 1), ('Cruz Azul', 0), ('Chivas', 0)), '14': ('¿A cuál equipo de fútbol le va Zahid?', ('América', 1), ('Cruz Azul', 0), ('Chivas', 0)), '15': ('¿A cuál equipo de fútbol le va Zahid?', ('América', 1), ('Cruz Azul', 0), ('Chivas', 0)), '16': ('¿A cuál equipo de fútbol le va Zahid?', ('América', 1), ('Cruz Azul', 0), ('Chivas', 0)), '17': ('¿A cuál equipo de fútbol le va Zahid?', ('América', 1), ('Cruz Azul', 0), ('Chivas', 0)), '18': ('¿A cuál equipo de fútbol le va Zahid?', ('América', 1), ('Cruz Azul', 0), ('Chivas', 0)), '19': ('¿A cuál equipo de fútbol le va Zahid?', ('América', 1), ('Cruz Azul', 0), ('Chivas', 0)), '20': ('¿A cuál equipo de fútbol le va Zahid?', ('América', 1), ('Cruz Azul', 0), ('Chivas', 0)), '21': ('¿A cuál equipo de fútbol le va Zahid?', ('América', 1), ('Cruz Azul', 0), ('Chivas', 0)), '22': ('¿A cuál equipo de fútbol le va Zahid?', ('América', 1), ('Cruz Azul', 0), ('Chivas', 0)), '23': ('¿A cuál equipo de fútbol le va Zahid?', ('América', 1), ('Cruz Azul', 0), ('Chivas', 0)), '24': ('¿A cuál equipo de fútbol le va Zahid?', ('América', 1), ('Cruz Azul', 0), ('Chivas', 0)), '25': ('¿A cuál equipo de fútbol le va Zahid?', ('América', 1), ('Cruz Azul', 0), ('Chivas', 0)), '26': ('¿A cuál equipo de fútbol le va Zahid?', ('América', 1), ('Cruz Azul', 0), ('Chivas', 0)), '27': ('¿A cuál equipo de fútbol le va Zahid?', ('América', 1), ('Cruz Azul', 0), ('Chivas', 0)), '28': ('¿A cuál equipo de fútbol le va Zahid?', ('América', 1), ('Cruz Azul', 0), ('Chivas', 0)), '29': ('¿A cuál equipo de fútbol le va Zahid?', ('América', 1), ('Cruz Azul', 0), ('Chivas', 0)), '30': ('¿A cuál equipo de fútbol le va Zahid?', ('América', 1), ('Cruz Azul', 0), ('Chivas', 0)), '31': ('¿A cuál equipo de fútbol le va Zahid?', ('América', 1), ('Cruz Azul', 0), ('Chivas', 0)), '32': ('¿A cuál equipo de fútbol le va Zahid?', ('América', 1), ('Cruz Azul', 0), ('Chivas', 0)), '33': ('¿A cuál equipo de fútbol le va Zahid?', ('América', 1), ('Cruz Azul', 0), ('Chivas', 0)), '34': ('¿A cuál equipo de fútbol le va Zahid?', ('América', 1), ('Cruz Azul', 0), ('Chivas', 0)), '35': ('¿A cuál equipo de fútbol le va Zahid?', ('América', 1), ('Cruz Azul', 0), ('Chivas', 0)), '36': ('¿A cuál equipo de fútbol le va Zahid?', ('América', 1), ('Cruz Azul', 0), ('Chivas', 0)), '37': ('¿A cuál equipo de fútbol le va Zahid?', ('América', 1), ('Cruz Azul', 0), ('Chivas', 0)), '38': ('¿A cuál equipo de fútbol le va Zahid?', ('América', 1), ('Cruz Azul', 0), ('Chivas', 0)), '39': ('¿A cuál equipo de fútbol le va Zahid?', ('América', 1), ('Cruz Azul', 0), ('Chivas', 0)), '40': ('¿A cuál equipo de fútbol le va Zahid?', ('América', 1), ('Cruz Azul', 0), ('Chivas', 0))}\n"
     ]
    }
   ],
   "source": [
    "#Crea diccionario tracker = llave, pregunta = unico elemento que no es tupla, respuestas = tupla\n",
    "dict_final= {}\n",
    "for key in tracker:\n",
    "    for value in final:\n",
    "        dict_final[key] = value\n",
    "print(dict_final)"
   ]
  },
  {
   "cell_type": "code",
   "execution_count": null,
   "metadata": {},
   "outputs": [],
   "source": []
  }
 ],
 "metadata": {
  "kernelspec": {
   "display_name": "Python 3",
   "language": "python",
   "name": "python3"
  },
  "language_info": {
   "codemirror_mode": {
    "name": "ipython",
    "version": 3
   },
   "file_extension": ".py",
   "mimetype": "text/x-python",
   "name": "python",
   "nbconvert_exporter": "python",
   "pygments_lexer": "ipython3",
   "version": "3.8.5"
  }
 },
 "nbformat": 4,
 "nbformat_minor": 5
}
