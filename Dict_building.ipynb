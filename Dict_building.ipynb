{
 "cells": [
  {
   "cell_type": "code",
   "execution_count": 1,
   "id": "b6ff3b75",
   "metadata": {},
   "outputs": [],
   "source": [
    "import requests\n",
    "import csv"
   ]
  },
  {
   "cell_type": "code",
   "execution_count": 29,
   "id": "a4f3dcb8",
   "metadata": {},
   "outputs": [],
   "source": [
    "\"\"\" esta parte del codigo lee los elementos del csv, y los pasa a 4 listas diferentes\"\"\"\n",
    "tracker = []\n",
    "preguntas = []\n",
    "res_correc = []\n",
    "incorrecta1 = []\n",
    "incorrecta2 = []\n",
    "prueba_document = list(csv.reader(open('Values&Keys - Master.csv','r')))\n",
    "for lista in prueba_document:\n",
    "    for e in lista:\n",
    "        if len(tracker)< 40 :\n",
    "            tracker.append(e)\n",
    "        elif len(preguntas) < 40:\n",
    "            preguntas.append(e)\n",
    "        elif len(res_correc) < 40:\n",
    "            res_correc.append(e)\n",
    "        elif len(incorrecta1) < 40:\n",
    "            incorrecta1.append(e)\n",
    "        elif len(incorrecta2) <40:\n",
    "            incorrecta2.append(e)"
   ]
  },
  {
   "cell_type": "code",
   "execution_count": 50,
   "id": "561e8486",
   "metadata": {},
   "outputs": [
    {
     "name": "stdout",
     "output_type": "stream",
     "text": [
      "[('1', ('¿Con qué siempre debe acabar def?', ('return', 1), ('otra función', 0), ('con', 0))), ('2', ('Las listas son', ('Mutables', 1), ('Inmutables', 0), ('Tuplas', 0))), ('3', ('¿Qué es Python?', ('Lenguaje de programación', 1), ('El juego de la víbora', 0), ('La causa de mis pesadillas', 0))), ('4', ('¿Qué es panda?', ('Es una librería', 1), ('Es un animal que come bamboo', 0), ('Yo los fines de semana', 0))), ('5', ('¿A qué se refiere REGEX?', ('Expresiones Regulares', 1), ('No sé ni siquiera puedo pronunciarlo', 0), ('Es un lenguaje de programación', 0))), ('6', ('¿En qué año apareció Python?', ('1991', 1), ('1985', 0), ('1970', 0))), ('7', ('¿Qué es docstring?', ('Es un comentario escrito en la primera instrucción de un módulo,  función, clase o definición de método', 1), ('Es parte de definir una función', 0), ('Suena a un pato', 0))), ('8', ('¿Cuál es el segundo nombre de Zahid?', ('Moisés', 1), ('Jesús', 0), ('Eduardo', 0))), ('9', ('¿Qué es IDP en Python? ', ('Integrated Development Environments', 1), ('Individual Development Plan ', 0), ('Identity Provider', 0))), ('10', ('¿Qué es una librería en programación? ', ('Son conjuntos de archivos de código que se utilizan para desarrollar software', 1), ('Un lugar donde compras libros', 0), ('Lugar donde voy a dormir donde no sé qué hacer con mi proyecto', 0))), ('11', ('Según Zahid, ¿cuál fue la analogía para entender Git?', ('Omnitrix: el poderoso reloj de Ben 10', 1), ('La historia de la cigüeña ', 0), ('Como el América gana la liga mexicana', 0))), ('12', ('¿Para que sirve el \":wq\" en la terminal?', ('Write and quit', 1), ('Hacer un emoji', 0), ('Borrar tu disco duro', 0))), ('13', ('¿Para qué sirve \"q!\" en la terminal?', ('Forzar salida', 1), ('Regresar al menú principal', 0), ('Retroceder un nivel', 0))), ('14', ('¿Cuál es la diferencia de GIT y GITHUB?', ('GIT es local y GITHUB es colaborativo', 1), ('Ojalá hubiera sido GIT para trabajar individualmente', 0), ('GIT es en línea y GITHUB es local', 0))), ('15', ('¿Para qué sirve el \"git Status\"?', ('Para saber qué hay y qué cambios se hicieron', 1), ('Para saber el status de carga de una función', 0), ('Para nada', 0))), ('16', ('¿Qué es concatenar? ', ('Se refiere a juntar / unir  elementos', 1), ('Separa elementos', 0), ('Borra el último elemento', 0))), ('17', ('¿Con qué símbolo puedo hacer comentarios?', ('#', 1), ('//', 0), (':', 0))), ('18', ('¿Con qué puedo agregar elementos a una lista?', ('Append', 1), ('Add', 0), ('Adiós Popo como el meme', 0))), ('19', ('¿Cuál es una característica de las Tuplas?', ('No se puede modificar', 1), ('Es igual que una lista', 0), ('Se acompañan con chocolate caliente', 0))), ('20', ('¿Qué es un SET?', ('Es un conjunto: colección de objetos con una particularidad', 1), ('Cada 4 juegos ganados en un partido de tenis', 0), ('Para indicar que es texto', 0))), ('21', ('¿Para qué sirve el .pop?', ('Quita un elemento', 1), ('Para hacer palomitas', 0), ('Para agregar objetos a una lista', 0))), ('22', ('¿Qué es un diccionario?', ('Colección de datos no ordenados que contienen un key y un value', 1), ('Lo mismo con una lista', 0), ('Donde buscas palabras para escribir correctamente', 0))), ('23', ('En REGEX, ¿para qué funciona el \\\\d?', ('Para reconocer números en cualquier formato incluso si son símbolos', 1), ('No sé, pero en el juego de Nay puedo aprender eso', 0), ('Para ignorar el último cáracter', 0))), ('24', ('¿Cómo importo REGEX?', ('import re', 1), ('No es necesario ya se incluye en python', 0), ('Un dinosaurio que vive en México', 0))), ('25', ('¿Para qué se usa el pass?', ('Para que no te mande error', 1), ('Para pasar al siguiente nivel', 0), ('Para buscar un error en tu función', 0))), ('26', ('¿Cómo puedes generar números aleatorios con Python?', ('Con random', 1), ('aleatory', 0), ('casual', 0))), ('27', ('¿Cuál es el output de print(str[2:]) si str = \"Hello World!\"?', ('llo World!', 1), ('Hello World!', 0), ('ello World!', 0))), ('28', ('En Venezuela, ¿cómo se le dice a hacer las compras del super?', ('Vamos a hacer mercado', 1), ('Vamos a hacer el mandado', 0), ('Vamos al tianguis', 0))), ('29', ('En Venezuela, ¿cómo se le dice al plátano?', ('Cambur', 1), ('Banana', 0), ('Minion', 0))), ('30', ('¿Qué desayuno Zahid la clase del 15 octubre del 2022?', ('Pizza', 1), ('Hot Dogs', 0), ('Un bolillo', 0))), ('31', ('¿Cuáles son los tipos de datos básicos?', ('Integer, Float, String y Boolean', 1), ('Verdadero y Numérico', 0), ('Décimal y texto', 0))), ('32', ('¿Quién desarrolló python?', ('Guido Van Rossum', 1), ('Bill Gates', 0), ('Steve Jobs', 0))), ('33', ('¿Qué es PEP 8?', ('Guía de estilo que facilita la lectura del código y la consistencia entre programas', 1), ('La nueva bebida de Pepsi', 0), ('No sé, yo tomo Coca', 0))), ('34', ('¿Cuáles son inmutables?', ('Strings, Tuples y Numbers', 1), ('Listas y Diccionarios ', 0), ('Los muggles ', 0))), ('35', ('¿A qué edad alcanzan la madurez las crías de elefante?', ('Entre los 12 y 15 años', 1), ('Entre los 5 y 10 años', 0), ('Entre los 15 y 20 años', 0))), ('36', ('¿Qué es la filofobia?', ('El miedo a enamorarse', 1), ('El miedo a python', 0), ('El miedo a socializar', 0))), ('37', ('¿Cómo se llama el gato de Beto?', ('Filomena', 1), ('Beto Jr', 0), ('Lady Matcha', 0))), ('38', ('¿En qué año se fundó el Real Madrid?', ('1902', 1), ('1950', 0), ('1973', 0))), ('39', ('¿Cuántos capítulos hay de la Leyenda de Ang?', ('61', 1), ('153', 0), ('102', 0))), ('40', ('¿A cuál equipo de fútbol le va Zahid?', ('América', 1), ('Cruz Azul', 0), ('Chivas', 0)))]\n"
     ]
    }
   ],
   "source": [
    "\"\"\"Crea tuplas que le dan valor de verdad 1 = Correcta 0 = incorrecta\"\"\"\n",
    "correctas= [1]*40\n",
    "incorrectas = [0]*40\n",
    "res_correcta = zip(res_correc, correctas)\n",
    "incorrectas_1 = zip(incorrecta1,incorrectas)\n",
    "incorrectas_2 = zip(incorrecta2,incorrectas)\n",
    "respuestas = zip(preguntas,res_correcta,incorrectas_1,incorrectas_2)\n",
    "respuestas_tracker = list(zip(tracker,respuestas))\n",
    "print(respuestas_tracker)"
   ]
  },
  {
   "cell_type": "code",
   "execution_count": 53,
   "id": "5ae823bd",
   "metadata": {},
   "outputs": [],
   "source": [
    "#Crea diccionario tracker = llave, pregunta = unico elemento que no es tupla, respuestas = tupla\n",
    "#def dict_builder(tracker,final):\n",
    "dict_final= {}\n",
    "for key in respuestas_tracker:\n",
    "        dict_final[key[0]] = key[-1]\n",
    "#for r in respuestas:\n",
    "        #dict_final[key] = r"
   ]
  },
  {
   "cell_type": "code",
   "execution_count": 59,
   "id": "a3ed361b",
   "metadata": {},
   "outputs": [
    {
     "name": "stdout",
     "output_type": "stream",
     "text": [
      "('¿Con qué siempre debe acabar def?', ('return', 1), ('otra función', 0), ('con', 0))\n"
     ]
    }
   ],
   "source": [
    "#dict_builder (tracker, final)\n",
    "#print(dict_final)\n",
    "print(dict_final['1'[0]])"
   ]
  }
 ],
 "metadata": {
  "kernelspec": {
   "display_name": "Python 3 (ipykernel)",
   "language": "python",
   "name": "python3"
  },
  "language_info": {
   "codemirror_mode": {
    "name": "ipython",
    "version": 3
   },
   "file_extension": ".py",
   "mimetype": "text/x-python",
   "name": "python",
   "nbconvert_exporter": "python",
   "pygments_lexer": "ipython3",
   "version": "3.9.12"
  }
 },
 "nbformat": 4,
 "nbformat_minor": 5
}
